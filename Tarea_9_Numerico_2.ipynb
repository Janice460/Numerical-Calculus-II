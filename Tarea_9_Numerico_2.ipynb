{
  "nbformat": 4,
  "nbformat_minor": 0,
  "metadata": {
    "colab": {
      "provenance": []
    },
    "kernelspec": {
      "name": "python3",
      "display_name": "Python 3"
    },
    "language_info": {
      "name": "python"
    }
  },
  "cells": [
    {
      "cell_type": "markdown",
      "source": [
        "$a)$ Estimar el numero de intervalo para aproximar $\\int_a^b f(x)dx$ con una tolerancia de $10^{-5}$"
      ],
      "metadata": {
        "id": "Nb28DtA_BqVI"
      }
    },
    {
      "cell_type": "code",
      "source": [
        "from sympy import symbols,integrate, log, exp, sin, diff\n",
        "import numpy as np"
      ],
      "metadata": {
        "id": "CPTsKWEoCLQN"
      },
      "execution_count": 2,
      "outputs": []
    },
    {
      "cell_type": "markdown",
      "source": [
        "# Regla del Trapecio compuesto\n",
        "Dividimos el intervalo $[a,b]$ en pequeños subintervalos (n par) de manera que\n",
        "$$x_I = a+ih \\text{ donde } h=\\frac{b-a}{n} \\text{ para } i=0,1,2...,n$$\n",
        "Aplicando regla se simpson a cada subintervalo $[x_{j-1},x_{i+1}], j=1,3,5,...,n-1$ tenemos\n",
        " $$\\int_{x_{j-1}}^{x_{j+1}}f(x) \\approx \\frac{x_{j+1}-x_{j}}{2} [f(x_{j})+f(x_{j+1})] $$\n",
        " Sumando las integrales de todos los subintervalos:\n",
        " $$\\int_a^b f(x)dx \\approx \\frac{h}{2}  \\left [ \\sum_{j=0}^{n-1} f(x_{j})+ f(x_{j+1})\\right ]$$"
      ],
      "metadata": {
        "id": "kQpcxbtn3XTh"
      }
    },
    {
      "cell_type": "markdown",
      "source": [
        "##Ejemplo:\n",
        "consideremos $f(x) = \\sqrt{4 + 5sen^2(t)}$, hallemos\n",
        "$$\\int_0^{\\pi/4} f(x)dx= \\int_0^{\\pi/4} \\sqrt{4 + 5sen^2(t)}\\; dt$$"
      ],
      "metadata": {
        "id": "Ef5uXgpT3JGV"
      }
    },
    {
      "cell_type": "code",
      "source": [
        "def Trapecio(a,b,n,f):\n",
        "  h = (b-a)/n\n",
        "  x0 = [a+i*h for i in range(n+1)]\n",
        "  suma = sum(f.subs(x,x0[j]) + f.subs(x,x0[j+1]) for j in range(n))\n",
        "  return h*suma/2"
      ],
      "metadata": {
        "id": "NCoJFcAeCMuF"
      },
      "execution_count": 20,
      "outputs": []
    },
    {
      "cell_type": "code",
      "source": [
        "x = symbols('x')\n",
        "f2 = (4+5*(sin(x))**2)**0.5\n",
        "# Calculo del error\n",
        "diff(f2, x, 2)"
      ],
      "metadata": {
        "id": "mxoH4UBTCSsy",
        "colab": {
          "base_uri": "https://localhost:8080/",
          "height": 66
        },
        "outputId": "10906ed0-2bcd-4da8-bd9f-23f51ffeba0a"
      },
      "execution_count": 21,
      "outputs": [
        {
          "output_type": "execute_result",
          "data": {
            "text/plain": [
              "-25.0*sin(x)**2*cos(x)**2/(5*sin(x)**2 + 4)**1.5 - 5.0*sin(x)**2/(5*sin(x)**2 + 4)**0.5 + 5.0*cos(x)**2/(5*sin(x)**2 + 4)**0.5"
            ],
            "text/latex": "$\\displaystyle - \\frac{25.0 \\sin^{2}{\\left(x \\right)} \\cos^{2}{\\left(x \\right)}}{\\left(5 \\sin^{2}{\\left(x \\right)} + 4\\right)^{1.5}} - \\frac{5.0 \\sin^{2}{\\left(x \\right)}}{\\left(5 \\sin^{2}{\\left(x \\right)} + 4\\right)^{0.5}} + \\frac{5.0 \\cos^{2}{\\left(x \\right)}}{\\left(5 \\sin^{2}{\\left(x \\right)} + 4\\right)^{0.5}}$"
          },
          "metadata": {},
          "execution_count": 21
        }
      ]
    },
    {
      "cell_type": "markdown",
      "source": [
        "\\begin{align}\n",
        "|f^{(2)}(\\xi)| &\\leq \\frac{0}{4^{1.5}} + \\frac{0}{4^{0.5}} + \\frac{5.0\\cdot 1}{4^{0.5}}\\\\\n",
        "& = 2.5\n",
        "\\end{align}"
      ],
      "metadata": {
        "id": "UEtpR2_16pcl"
      }
    },
    {
      "cell_type": "markdown",
      "source": [
        "El error entonces:\n",
        "\\begin{align}\n",
        "|E(x)| &=\\frac{h^3}{12}n \\cdot |f^{(2)}(\\xi)|\\\\\n",
        "& \\leq \\frac{h^3}{12}n\\cdot 2.5\n",
        "\\end{align}\n",
        "como la tolerancia es de $10^{-5}$\n",
        "\n",
        "\\begin{align}\n",
        " &\\frac{h^3}{12}n \\cdot 2.5 < 10^{-5} \\\\\n",
        "\\rightarrow\\; & h^3n < 0.000048  \n",
        "\\end{align}\n",
        "Asi $n>  100.46486 $\\\n",
        "La integral usando $n=101$ es:"
      ],
      "metadata": {
        "id": "6uuRFud846Np"
      }
    },
    {
      "cell_type": "code",
      "source": [
        "Trapecio(0,np.pi/4,101,f2)"
      ],
      "metadata": {
        "colab": {
          "base_uri": "https://localhost:8080/",
          "height": 37
        },
        "id": "LsiK5E_g_Cfk",
        "outputId": "dcf65da9-0014-4b23-9b83-9f5c7bce1378"
      },
      "execution_count": 22,
      "outputs": [
        {
          "output_type": "execute_result",
          "data": {
            "text/plain": [
              "1.73484840290702"
            ],
            "text/latex": "$\\displaystyle 1.73484840290702$"
          },
          "metadata": {},
          "execution_count": 22
        }
      ]
    },
    {
      "cell_type": "code",
      "source": [
        "inte = integrate(f2, (x,0, np.pi/4)).round(13)\n",
        "inte"
      ],
      "metadata": {
        "colab": {
          "base_uri": "https://localhost:8080/",
          "height": 37
        },
        "id": "0gAk3Ck8AvHO",
        "outputId": "f16a4fe7-1826-4e6f-fdc6-239b57ea43da"
      },
      "execution_count": 16,
      "outputs": [
        {
          "output_type": "execute_result",
          "data": {
            "text/plain": [
              "1.7348434616135"
            ],
            "text/latex": "$\\displaystyle 1.7348434616135$"
          },
          "metadata": {},
          "execution_count": 16
        }
      ]
    },
    {
      "cell_type": "code",
      "source": [
        "print(\"Iteracion\\t Error\")\n",
        "for i in range(1,102,4):\n",
        "  inte = integrate(f2, (x,0, np.pi/4)).round(13)\n",
        "  error = inte - Trapecio(0,np.pi/4,i,f2)\n",
        "  print(i, \"\\t\", abs(error))"
      ],
      "metadata": {
        "colab": {
          "base_uri": "https://localhost:8080/"
        },
        "id": "VBsvf1uO_8dN",
        "outputId": "339fd711-1a69-4762-831f-81b9c51e43c5"
      },
      "execution_count": 24,
      "outputs": [
        {
          "output_type": "stream",
          "name": "stdout",
          "text": [
            "Iteracion\t Error\n",
            "1 \t 0.0517448420598299\n",
            "5 \t 0.00201918699182246\n",
            "9 \t 0.000622576631938321\n",
            "13 \t 0.000298324613812184\n",
            "17 \t 0.000174437134118577\n",
            "21 \t 0.000114308693514698\n",
            "25 \t 8.06542456972537e-5\n",
            "29 \t 5.99383427268840e-5\n",
            "33 \t 4.62880139506794e-5\n",
            "37 \t 3.68205267058386e-5\n",
            "41 \t 2.99863481236784e-5\n",
            "45 \t 2.48922789856110e-5\n",
            "49 \t 2.09940534825481e-5\n",
            "53 \t 1.79446817059059e-5\n",
            "57 \t 1.55144727744805e-5\n",
            "61 \t 1.35464794603912e-5\n",
            "65 \t 1.19305067391995e-5\n",
            "69 \t 1.05873433826620e-5\n",
            "73 \t 9.45886668457518e-6\n",
            "77 \t 8.50164708032786e-6\n",
            "81 \t 7.68270623074940e-6\n",
            "85 \t 6.97663802595727e-6\n",
            "89 \t 6.36361410122355e-6\n",
            "93 \t 5.82797637638244e-6\n",
            "97 \t 5.35722716987763e-6\n",
            "101 \t 4.94129352057726e-6\n"
          ]
        }
      ]
    },
    {
      "cell_type": "markdown",
      "source": [
        "# Regla se Simpson Compuesta\n",
        "Dividimos el intervalo $[a,b]$ en pequeños subintervalos (n par) de manera que\n",
        "$$x_I = a+ih \\text{ donde } h=\\frac{b-a}{n} \\text{ para } i=0,1,2...,n$$\n",
        "Aplicando regla se simpson a cada subintervalo $[x_{j-1},x_{i+1}], j=1,3,5,...,n-1$ tenemos\n",
        " $$\\int_{x_{j-1}}^{x_{j+1}} \\approx \\frac{x_{j+1}+x_{j-1}}{6} [f(x_{j-1})+ 4f(x_j)+ f(x_{j+1})] $$\n",
        " Sumando las integrales de todos los subintervalos:\n",
        " $$\\int_a^b f(x)dx \\approx \\frac{h}{3}  \\left [ f(x_0)+ 2\\sum_{j=1}^{n/2-1} f(x_{2j}) + 4\\sum_{j=1}^{n/2} f(x_{2j-1})+ f(x_n) \\right ]$$"
      ],
      "metadata": {
        "id": "LAadqk1LO8KS"
      }
    },
    {
      "cell_type": "code",
      "source": [
        "def Simpson(a,b,n,f):\n",
        "  h = (b-a)/n\n",
        "  x0 = [a+i*h for i in range(n+1)]\n",
        "  suma = sum(2*f.subs(x,x0[2*j]) + 4*f.subs(x,x0[2*j-1]) for j in range(1,int(n/2)) )\n",
        "  suma = f.subs(x,x0[0]) + suma + 4*f.subs(x,x0[n-1]) + f.subs(x,x0[n])\n",
        "  return h*suma/3"
      ],
      "metadata": {
        "id": "Q_4cwRPaSZ1i"
      },
      "execution_count": 5,
      "outputs": []
    },
    {
      "cell_type": "code",
      "source": [
        "x = symbols('x')\n",
        "f2 = (4+5*(sin(x))**2)**0.5"
      ],
      "metadata": {
        "id": "oWU-v388XEh3"
      },
      "execution_count": 6,
      "outputs": []
    },
    {
      "cell_type": "code",
      "source": [
        "integrate(f2, (x,0, 2*np.pi)).round(13)"
      ],
      "metadata": {
        "colab": {
          "base_uri": "https://localhost:8080/",
          "height": 37
        },
        "id": "jmmsFSYAatLI",
        "outputId": "5a17591a-872a-45e6-a820-571d6a812317"
      },
      "execution_count": null,
      "outputs": [
        {
          "output_type": "execute_result",
          "data": {
            "text/plain": [
              "15.8654395892906"
            ],
            "text/latex": "$\\displaystyle 15.8654395892906$"
          },
          "metadata": {},
          "execution_count": 47
        }
      ]
    },
    {
      "cell_type": "code",
      "source": [
        "diff(f2, x, 4)"
      ],
      "metadata": {
        "colab": {
          "base_uri": "https://localhost:8080/",
          "height": 114
        },
        "id": "MtbOKTcfazl1",
        "outputId": "d067014a-dc6b-45dd-afb3-c553e701177a"
      },
      "execution_count": 7,
      "outputs": [
        {
          "output_type": "execute_result",
          "data": {
            "text/plain": [
              "-9375.0*sin(x)**4*cos(x)**4/(5*sin(x)**2 + 4)**3.5 - 2250.0*sin(x)**4*cos(x)**2/(5*sin(x)**2 + 4)**2.5 + 2250.0*sin(x)**2*cos(x)**4/(5*sin(x)**2 + 4)**2.5 - 75.0*sin(x)**4/(5*sin(x)**2 + 4)**1.5 + 550.0*sin(x)**2*cos(x)**2/(5*sin(x)**2 + 4)**1.5 - 75.0*cos(x)**4/(5*sin(x)**2 + 4)**1.5 + 20.0*sin(x)**2/(5*sin(x)**2 + 4)**0.5 - 20.0*cos(x)**2/(5*sin(x)**2 + 4)**0.5"
            ],
            "text/latex": "$\\displaystyle - \\frac{9375.0 \\sin^{4}{\\left(x \\right)} \\cos^{4}{\\left(x \\right)}}{\\left(5 \\sin^{2}{\\left(x \\right)} + 4\\right)^{3.5}} - \\frac{2250.0 \\sin^{4}{\\left(x \\right)} \\cos^{2}{\\left(x \\right)}}{\\left(5 \\sin^{2}{\\left(x \\right)} + 4\\right)^{2.5}} + \\frac{2250.0 \\sin^{2}{\\left(x \\right)} \\cos^{4}{\\left(x \\right)}}{\\left(5 \\sin^{2}{\\left(x \\right)} + 4\\right)^{2.5}} - \\frac{75.0 \\sin^{4}{\\left(x \\right)}}{\\left(5 \\sin^{2}{\\left(x \\right)} + 4\\right)^{1.5}} + \\frac{550.0 \\sin^{2}{\\left(x \\right)} \\cos^{2}{\\left(x \\right)}}{\\left(5 \\sin^{2}{\\left(x \\right)} + 4\\right)^{1.5}} - \\frac{75.0 \\cos^{4}{\\left(x \\right)}}{\\left(5 \\sin^{2}{\\left(x \\right)} + 4\\right)^{1.5}} + \\frac{20.0 \\sin^{2}{\\left(x \\right)}}{\\left(5 \\sin^{2}{\\left(x \\right)} + 4\\right)^{0.5}} - \\frac{20.0 \\cos^{2}{\\left(x \\right)}}{\\left(5 \\sin^{2}{\\left(x \\right)} + 4\\right)^{0.5}}$"
          },
          "metadata": {},
          "execution_count": 7
        }
      ]
    },
    {
      "cell_type": "markdown",
      "source": [
        "\\begin{align}\n",
        "|f^{(4)}(\\xi)| &\\leq 0 + 0 + \\frac{2250\\cdot 4}{27\\cdot 4^{2.5}} + 0 + \\frac{550\\cdot 1}{4\\cdot 4^{1.5}} + 0 + \\frac{20\\cdot 1}{4^{0.5}} + 0 \\\\\n",
        "& = 37.60416\n",
        "\\end{align}"
      ],
      "metadata": {
        "id": "aI1Zo4DTeYWn"
      }
    },
    {
      "cell_type": "markdown",
      "source": [
        "El error entonces:\n",
        "\\begin{align}\n",
        "|E(x)| &=\\frac{h^5}{90} \\cdot |f^{(4)}(\\xi)|\\\\\n",
        "&\\leq  \\frac{h^5}{90}\\cdot 37.60416\n",
        "\\end{align}\n",
        "como tol=$10^-5$\n",
        "\\begin{align}\n",
        "\\frac{h^5}{90}&\\cdot 37.60416 < 10^{-5}\\\\\n",
        "\\rightarrow & h^5 < 6.36459\\cdot 10^{-8}\n",
        "\\end{align}\n",
        "Asi $n > 83.6331 $\\\n",
        "La integral usando $n=84$ (par) es:"
      ],
      "metadata": {
        "id": "bDCkyHZel4jh"
      }
    },
    {
      "cell_type": "code",
      "source": [
        "Simpson(0,np.pi/4,84,f2)"
      ],
      "metadata": {
        "colab": {
          "base_uri": "https://localhost:8080/",
          "height": 37
        },
        "id": "BzOCu3tDeXvn",
        "outputId": "ec2bf8c9-d7b9-4494-dcc4-a03445a21024"
      },
      "execution_count": 10,
      "outputs": [
        {
          "output_type": "execute_result",
          "data": {
            "text/plain": [
              "1.73484346146540"
            ],
            "text/latex": "$\\displaystyle 1.7348434614654$"
          },
          "metadata": {},
          "execution_count": 10
        }
      ]
    },
    {
      "cell_type": "code",
      "source": [
        "print(\"Iteracion\\t Error\")\n",
        "inte = integrate(f2, (x,0, np.pi/4)).round(13)\n",
        "for i in range(4,85,4):\n",
        "  error = inte - Simpson(0,np.pi/4,i,f2)\n",
        "  print(i, \"\\t\", error)"
      ],
      "metadata": {
        "colab": {
          "base_uri": "https://localhost:8080/"
        },
        "id": "qan_8GbmBMKy",
        "outputId": "7d9de3d2-a372-4b1c-f710-ea39d7ff2517"
      },
      "execution_count": 19,
      "outputs": [
        {
          "output_type": "stream",
          "name": "stdout",
          "text": [
            "Iteracion\t Error\n",
            "4 \t 2.86874312853680e-5\n",
            "8 \t 1.79983786119386e-6\n",
            "12 \t 3.55515870076317e-7\n",
            "16 \t 1.12485068592960e-7\n",
            "20 \t 4.60733404761271e-8\n",
            "24 \t 2.22188685228275e-8\n",
            "28 \t 1.19931546915808e-8\n",
            "32 \t 7.03016223013719e-9\n",
            "36 \t 4.38890146448045e-9\n",
            "40 \t 2.87956791744648e-9\n",
            "44 \t 1.96679406094802e-9\n",
            "48 \t 1.38869871157965e-9\n",
            "52 \t 1.00824060211835e-9\n",
            "56 \t 7.49602824257067e-10\n",
            "60 \t 5.68834090941550e-10\n",
            "64 \t 4.39420277942304e-10\n",
            "68 \t 3.44806183605328e-10\n",
            "72 \t 2.74343214812234e-10\n",
            "76 \t 2.20995888255970e-10\n",
            "80 \t 1.80010006900488e-10\n",
            "84 \t 1.48102197172761e-10\n"
          ]
        }
      ]
    }
  ]
}